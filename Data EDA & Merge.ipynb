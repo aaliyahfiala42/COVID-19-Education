{
 "cells": [
  {
   "cell_type": "code",
   "execution_count": 1,
   "id": "29800a82",
   "metadata": {},
   "outputs": [],
   "source": [
    "#dependencies\n",
    "#!pip install openpyxl "
   ]
  },
  {
   "cell_type": "code",
   "execution_count": 2,
   "id": "a27acb46",
   "metadata": {},
   "outputs": [],
   "source": [
    "import pandas as pd\n",
    "import numpy as np"
   ]
  },
  {
   "cell_type": "markdown",
   "id": "ab8616f7",
   "metadata": {},
   "source": [
    "## Import Data"
   ]
  },
  {
   "cell_type": "code",
   "execution_count": 3,
   "id": "6f37b37a",
   "metadata": {},
   "outputs": [],
   "source": [
    "#import enrollment data\n",
    "enroll18 = pd.read_excel('data/Database_SchoolDetail17-18.xlsx', sheet_name = 'EnrollmentTrendsbyGrade')\n",
    "enroll19 = pd.read_excel('data/Database_SchoolDetail18-19.xlsx', sheet_name = 'EnrollmentTrendsbyGrade')\n",
    "enroll20 = pd.read_excel('data/Database_SchoolDetail19-20.xlsx', sheet_name = 'EnrollmentTrendsbyGrade')"
   ]
  },
  {
   "cell_type": "code",
   "execution_count": 4,
   "id": "5e02f9bc",
   "metadata": {},
   "outputs": [],
   "source": [
    "#import test score data\n",
    "tests18 = pd.read_excel('data/Database_SchoolDetail17-18.xlsx', sheet_name = 'PSAT-SAT-ACTPerformance')\n",
    "tests19 = pd.read_excel('data/Database_SchoolDetail18-19.xlsx', sheet_name = 'PSAT-SAT-ACTPerformance')\n",
    "tests20 = pd.read_excel('data/Database_SchoolDetail19-20.xlsx', sheet_name = 'PSAT-SAT-ACTPerformance')"
   ]
  },
  {
   "cell_type": "code",
   "execution_count": 95,
   "id": "8804da5f",
   "metadata": {},
   "outputs": [],
   "source": [
    "#import graduation rates data\n",
    "grad18 = pd.read_excel('data/Database_SchoolDetail17-18.xlsx', sheet_name = 'GraduationRateTrends')\n",
    "grad19 = pd.read_excel('data/Database_SchoolDetail18-19.xlsx', sheet_name = 'GraduatonRateTrendsProgress')\n",
    "grad20 = pd.read_excel('data/Database_SchoolDetail19-20.xlsx', sheet_name = 'GraduatonRateTrendsProgress')"
   ]
  },
  {
   "cell_type": "code",
   "execution_count": 6,
   "id": "23a61316",
   "metadata": {},
   "outputs": [
    {
     "data": {
      "text/html": [
       "<div>\n",
       "<style scoped>\n",
       "    .dataframe tbody tr th:only-of-type {\n",
       "        vertical-align: middle;\n",
       "    }\n",
       "\n",
       "    .dataframe tbody tr th {\n",
       "        vertical-align: top;\n",
       "    }\n",
       "\n",
       "    .dataframe thead th {\n",
       "        text-align: right;\n",
       "    }\n",
       "</style>\n",
       "<table border=\"1\" class=\"dataframe\">\n",
       "  <thead>\n",
       "    <tr style=\"text-align: right;\">\n",
       "      <th></th>\n",
       "      <th>CountyCode</th>\n",
       "      <th>CountyName</th>\n",
       "      <th>DistrictCode</th>\n",
       "      <th>DistrictName</th>\n",
       "      <th>SchoolCode</th>\n",
       "      <th>SchoolName</th>\n",
       "      <th>GradePK</th>\n",
       "      <th>GradeKG</th>\n",
       "      <th>Grade01</th>\n",
       "      <th>Grade02</th>\n",
       "      <th>...</th>\n",
       "      <th>Grade04</th>\n",
       "      <th>Grade05</th>\n",
       "      <th>Grade06</th>\n",
       "      <th>Grade07</th>\n",
       "      <th>Grade08</th>\n",
       "      <th>Grade09</th>\n",
       "      <th>Grade10</th>\n",
       "      <th>Grade11</th>\n",
       "      <th>Grade12</th>\n",
       "      <th>Total</th>\n",
       "    </tr>\n",
       "  </thead>\n",
       "  <tbody>\n",
       "    <tr>\n",
       "      <th>0</th>\n",
       "      <td>1</td>\n",
       "      <td>ATLANTIC</td>\n",
       "      <td>10</td>\n",
       "      <td>ABSECON CITY</td>\n",
       "      <td>50</td>\n",
       "      <td>EMMA C ATTALES</td>\n",
       "      <td>0</td>\n",
       "      <td>0</td>\n",
       "      <td>0</td>\n",
       "      <td>0</td>\n",
       "      <td>...</td>\n",
       "      <td>0</td>\n",
       "      <td>97</td>\n",
       "      <td>93</td>\n",
       "      <td>79</td>\n",
       "      <td>106</td>\n",
       "      <td>0</td>\n",
       "      <td>0</td>\n",
       "      <td>0</td>\n",
       "      <td>0</td>\n",
       "      <td>375</td>\n",
       "    </tr>\n",
       "    <tr>\n",
       "      <th>1</th>\n",
       "      <td>1</td>\n",
       "      <td>ATLANTIC</td>\n",
       "      <td>10</td>\n",
       "      <td>ABSECON CITY</td>\n",
       "      <td>60</td>\n",
       "      <td>H ASHTON MARSH</td>\n",
       "      <td>39</td>\n",
       "      <td>99</td>\n",
       "      <td>84</td>\n",
       "      <td>86</td>\n",
       "      <td>...</td>\n",
       "      <td>103</td>\n",
       "      <td>0</td>\n",
       "      <td>0</td>\n",
       "      <td>0</td>\n",
       "      <td>0</td>\n",
       "      <td>0</td>\n",
       "      <td>0</td>\n",
       "      <td>0</td>\n",
       "      <td>0</td>\n",
       "      <td>493</td>\n",
       "    </tr>\n",
       "  </tbody>\n",
       "</table>\n",
       "<p>2 rows × 21 columns</p>\n",
       "</div>"
      ],
      "text/plain": [
       "   CountyCode CountyName  DistrictCode  DistrictName  SchoolCode  \\\n",
       "0           1   ATLANTIC            10  ABSECON CITY          50   \n",
       "1           1   ATLANTIC            10  ABSECON CITY          60   \n",
       "\n",
       "       SchoolName GradePK GradeKG Grade01 Grade02  ... Grade04 Grade05  \\\n",
       "0  EMMA C ATTALES       0       0       0       0  ...       0      97   \n",
       "1  H ASHTON MARSH      39      99      84      86  ...     103       0   \n",
       "\n",
       "  Grade06 Grade07 Grade08 Grade09 Grade10 Grade11 Grade12 Total  \n",
       "0      93      79     106       0       0       0       0   375  \n",
       "1       0       0       0       0       0       0       0   493  \n",
       "\n",
       "[2 rows x 21 columns]"
      ]
     },
     "execution_count": 6,
     "metadata": {},
     "output_type": "execute_result"
    }
   ],
   "source": [
    "enroll18.head(2)"
   ]
  },
  {
   "cell_type": "markdown",
   "id": "d9d78ba8",
   "metadata": {},
   "source": [
    "## Data cleanup\n",
    "\n",
    "* Filter to only Essex County schools (Essex County code: 13)\n",
    "\n",
    "* Create a column for school year\n",
    "* Merge together each dataset by year\n",
    "* Average over all schools in Essex County\n",
    "\n",
    "Grad\n",
    "* Rename 17-18 columns to match the other datasets"
   ]
  },
  {
   "cell_type": "markdown",
   "id": "5a229bac",
   "metadata": {},
   "source": [
    "### Enrollment"
   ]
  },
  {
   "cell_type": "code",
   "execution_count": 7,
   "id": "f6cb02eb",
   "metadata": {},
   "outputs": [],
   "source": [
    "# Filter to only Essex County schools (Essex County code: 13)\n",
    "enroll18 = enroll18[enroll18.CountyCode == 13]\n",
    "enroll19 = enroll19[enroll19.CountyCode == 13]\n",
    "enroll20 = enroll20[enroll20.CountyCode == 13]"
   ]
  },
  {
   "cell_type": "code",
   "execution_count": 8,
   "id": "6b5168a7",
   "metadata": {},
   "outputs": [],
   "source": [
    "#drop countycode, countyname, districtcode, distirctname, schoolname, schoolcode\n",
    "enroll18 = enroll18[['GradePK', 'GradeKG', 'Grade01', 'Grade02',\n",
    "       'Grade03', 'Grade04', 'Grade05', 'Grade06', 'Grade07', 'Grade08',\n",
    "       'Grade09', 'Grade10', 'Grade11', 'Grade12', 'Total']]\n",
    "enroll19 = enroll19[['GradePK', 'GradeKG', 'Grade01', 'Grade02',\n",
    "       'Grade03', 'Grade04', 'Grade05', 'Grade06', 'Grade07', 'Grade08',\n",
    "       'Grade09', 'Grade10', 'Grade11', 'Grade12', 'Total']]\n",
    "enroll20 = enroll20[['GradePK', 'GradeKG', 'Grade01', 'Grade02',\n",
    "       'Grade03', 'Grade04', 'Grade05', 'Grade06', 'Grade07', 'Grade08',\n",
    "       'Grade09', 'Grade10', 'Grade11', 'Grade12', 'Total']]"
   ]
  },
  {
   "cell_type": "code",
   "execution_count": 9,
   "id": "e9f7f446",
   "metadata": {},
   "outputs": [],
   "source": [
    "#taking the average for each grade over all schools \n",
    "enroll18 = pd.DataFrame(enroll18.mean(axis = 0))\n",
    "enroll19 = pd.DataFrame(enroll19.mean(axis = 0))\n",
    "enroll20 = pd.DataFrame(enroll20.mean(axis = 0))\n",
    "\n",
    "#renaming the columns to be the corresponding years\n",
    "enroll18.columns = ['2018']\n",
    "enroll19.columns = ['2019']\n",
    "enroll20.columns = ['2020']"
   ]
  },
  {
   "cell_type": "code",
   "execution_count": 10,
   "id": "2cf7d625",
   "metadata": {},
   "outputs": [],
   "source": [
    "#merge each year together\n",
    "enroll_all = pd.concat([enroll18, enroll19, enroll20], axis = 1)"
   ]
  },
  {
   "cell_type": "code",
   "execution_count": 11,
   "id": "56245bd2",
   "metadata": {},
   "outputs": [
    {
     "data": {
      "text/html": [
       "<div>\n",
       "<style scoped>\n",
       "    .dataframe tbody tr th:only-of-type {\n",
       "        vertical-align: middle;\n",
       "    }\n",
       "\n",
       "    .dataframe tbody tr th {\n",
       "        vertical-align: top;\n",
       "    }\n",
       "\n",
       "    .dataframe thead th {\n",
       "        text-align: right;\n",
       "    }\n",
       "</style>\n",
       "<table border=\"1\" class=\"dataframe\">\n",
       "  <thead>\n",
       "    <tr style=\"text-align: right;\">\n",
       "      <th></th>\n",
       "      <th>2018</th>\n",
       "      <th>2019</th>\n",
       "      <th>2020</th>\n",
       "    </tr>\n",
       "  </thead>\n",
       "  <tbody>\n",
       "    <tr>\n",
       "      <th>GradePK</th>\n",
       "      <td>23.543379</td>\n",
       "      <td>24.027778</td>\n",
       "      <td>24.405530</td>\n",
       "    </tr>\n",
       "    <tr>\n",
       "      <th>GradeKG</th>\n",
       "      <td>38.050228</td>\n",
       "      <td>38.976852</td>\n",
       "      <td>38.317972</td>\n",
       "    </tr>\n",
       "    <tr>\n",
       "      <th>Grade01</th>\n",
       "      <td>39.264840</td>\n",
       "      <td>40.087963</td>\n",
       "      <td>40.267281</td>\n",
       "    </tr>\n",
       "    <tr>\n",
       "      <th>Grade02</th>\n",
       "      <td>39.634703</td>\n",
       "      <td>40.138889</td>\n",
       "      <td>40.350230</td>\n",
       "    </tr>\n",
       "    <tr>\n",
       "      <th>Grade03</th>\n",
       "      <td>41.876712</td>\n",
       "      <td>40.717593</td>\n",
       "      <td>40.198157</td>\n",
       "    </tr>\n",
       "    <tr>\n",
       "      <th>Grade04</th>\n",
       "      <td>42.136986</td>\n",
       "      <td>42.486111</td>\n",
       "      <td>41.013825</td>\n",
       "    </tr>\n",
       "    <tr>\n",
       "      <th>Grade05</th>\n",
       "      <td>42.269406</td>\n",
       "      <td>42.574074</td>\n",
       "      <td>42.188940</td>\n",
       "    </tr>\n",
       "    <tr>\n",
       "      <th>Grade06</th>\n",
       "      <td>39.899543</td>\n",
       "      <td>42.625000</td>\n",
       "      <td>42.198157</td>\n",
       "    </tr>\n",
       "    <tr>\n",
       "      <th>Grade07</th>\n",
       "      <td>38.410959</td>\n",
       "      <td>40.805556</td>\n",
       "      <td>42.820276</td>\n",
       "    </tr>\n",
       "    <tr>\n",
       "      <th>Grade08</th>\n",
       "      <td>40.383562</td>\n",
       "      <td>39.120370</td>\n",
       "      <td>40.640553</td>\n",
       "    </tr>\n",
       "    <tr>\n",
       "      <th>Grade09</th>\n",
       "      <td>39.995434</td>\n",
       "      <td>41.125000</td>\n",
       "      <td>40.912442</td>\n",
       "    </tr>\n",
       "    <tr>\n",
       "      <th>Grade10</th>\n",
       "      <td>39.657534</td>\n",
       "      <td>39.953704</td>\n",
       "      <td>40.364055</td>\n",
       "    </tr>\n",
       "    <tr>\n",
       "      <th>Grade11</th>\n",
       "      <td>37.981735</td>\n",
       "      <td>39.277778</td>\n",
       "      <td>38.751152</td>\n",
       "    </tr>\n",
       "    <tr>\n",
       "      <th>Grade12</th>\n",
       "      <td>38.598174</td>\n",
       "      <td>38.879630</td>\n",
       "      <td>39.774194</td>\n",
       "    </tr>\n",
       "    <tr>\n",
       "      <th>Total</th>\n",
       "      <td>542.210046</td>\n",
       "      <td>551.041667</td>\n",
       "      <td>552.304147</td>\n",
       "    </tr>\n",
       "  </tbody>\n",
       "</table>\n",
       "</div>"
      ],
      "text/plain": [
       "               2018        2019        2020\n",
       "GradePK   23.543379   24.027778   24.405530\n",
       "GradeKG   38.050228   38.976852   38.317972\n",
       "Grade01   39.264840   40.087963   40.267281\n",
       "Grade02   39.634703   40.138889   40.350230\n",
       "Grade03   41.876712   40.717593   40.198157\n",
       "Grade04   42.136986   42.486111   41.013825\n",
       "Grade05   42.269406   42.574074   42.188940\n",
       "Grade06   39.899543   42.625000   42.198157\n",
       "Grade07   38.410959   40.805556   42.820276\n",
       "Grade08   40.383562   39.120370   40.640553\n",
       "Grade09   39.995434   41.125000   40.912442\n",
       "Grade10   39.657534   39.953704   40.364055\n",
       "Grade11   37.981735   39.277778   38.751152\n",
       "Grade12   38.598174   38.879630   39.774194\n",
       "Total    542.210046  551.041667  552.304147"
      ]
     },
     "execution_count": 11,
     "metadata": {},
     "output_type": "execute_result"
    }
   ],
   "source": [
    "enroll_all"
   ]
  },
  {
   "cell_type": "code",
   "execution_count": 12,
   "id": "1c3a1acb",
   "metadata": {},
   "outputs": [],
   "source": [
    "#adding a column for year\n",
    "#enroll18.loc[:, \"Year\"] = np.ones(len(enroll18)) * 2018\n",
    "#enroll18.Year = enroll18.Year.astype(int)\n",
    "#enroll19.loc[:, \"Year\"] = np.ones(len(enroll19)) * 2019\n",
    "#enroll19.Year = enroll19.Year.astype(int)\n",
    "#enroll20.loc[:, \"Year\"] = np.ones(len(enroll20)) * 2020\n",
    "#enroll20.Year = enroll20.Year.astype(int)"
   ]
  },
  {
   "cell_type": "markdown",
   "id": "6033e15c",
   "metadata": {},
   "source": [
    "### Tests"
   ]
  },
  {
   "cell_type": "code",
   "execution_count": 13,
   "id": "9818cfa9",
   "metadata": {},
   "outputs": [],
   "source": [
    "# Filter to only Essex County schools (Essex County code: 13)\n",
    "tests18 = tests18[tests18.CountyCode == 13]\n",
    "tests19 = tests19[tests19.CountyCode == 13]\n",
    "tests20 = tests20[tests20.CountyCode == 13]"
   ]
  },
  {
   "cell_type": "code",
   "execution_count": 14,
   "id": "1d706e17",
   "metadata": {},
   "outputs": [],
   "source": [
    "#drop countycode, countyname, districtcode, distirctname, schoolname, schoolcode, BT_PCT, STATE_BT_PCT, benchmark\n",
    "tests18 = tests18[['Test', 'Subject', 'School_Avg',\n",
    "       'State_avg']]\n",
    "tests19 = tests19[['Test', 'Subject', 'School_Avg',\n",
    "       'State_avg']]\n",
    "tests20 = tests20[['Test', 'Subject', 'School_Avg',\n",
    "       'State_avg']]"
   ]
  },
  {
   "cell_type": "code",
   "execution_count": 15,
   "id": "d60d20e8",
   "metadata": {},
   "outputs": [],
   "source": [
    "#drop bad data (School_Avg = \"*\" or \"N\")\n",
    "tests18 = tests18.drop(tests18[tests18.School_Avg == '*'].index)\n",
    "tests18 = tests18.drop(tests18[tests18.School_Avg == 'N'].index)\n",
    "\n",
    "tests19 = tests19.drop(tests19[tests19.School_Avg == '*'].index)\n",
    "tests19 = tests19.drop(tests19[tests19.School_Avg == 'N'].index)\n",
    "\n",
    "tests20 = tests20.drop(tests20[tests20.School_Avg == '*'].index)\n",
    "tests20 = tests20.drop(tests20[tests20.School_Avg == 'N'].index)"
   ]
  },
  {
   "cell_type": "code",
   "execution_count": 16,
   "id": "68b3d6df",
   "metadata": {},
   "outputs": [],
   "source": [
    "#convert school test average to type float\n",
    "tests18['School_Avg'] = tests18['School_Avg'].astype(float)\n",
    "tests19['School_Avg'] = tests19['School_Avg'].astype(float)\n",
    "tests20['School_Avg'] = tests20['School_Avg'].astype(float)"
   ]
  },
  {
   "cell_type": "code",
   "execution_count": 17,
   "id": "81f43da6",
   "metadata": {},
   "outputs": [],
   "source": [
    "#group by test, subject -  average school_avg\n",
    "tests18 = tests18.groupby(['Test', 'Subject']).mean().reset_index()\n",
    "tests19 = tests18.groupby(['Test', 'Subject']).mean().reset_index()\n",
    "tests20 = tests18.groupby(['Test', 'Subject']).mean().reset_index()"
   ]
  },
  {
   "cell_type": "code",
   "execution_count": 18,
   "id": "3afd9e29",
   "metadata": {},
   "outputs": [],
   "source": [
    "#adding a column for year\n",
    "tests18.loc[:, \"Year\"] = np.ones(len(tests18)) * 2018\n",
    "tests18.Year = tests18.Year.astype(int)\n",
    "\n",
    "tests19.loc[:, \"Year\"] = np.ones(len(tests19)) * 2019\n",
    "tests19.Year = tests19.Year.astype(int)\n",
    "\n",
    "tests20.loc[:, \"Year\"] = np.ones(len(tests20)) * 2020\n",
    "tests20.Year = tests20.Year.astype(int)"
   ]
  },
  {
   "cell_type": "code",
   "execution_count": 19,
   "id": "84a8de0f",
   "metadata": {
    "scrolled": true
   },
   "outputs": [],
   "source": [
    "#merge data together\n",
    "tests_all = pd.concat([tests18, tests19, tests20], axis = 0)"
   ]
  },
  {
   "cell_type": "markdown",
   "id": "0f21910c",
   "metadata": {},
   "source": [
    "### Graduation"
   ]
  },
  {
   "cell_type": "code",
   "execution_count": 96,
   "id": "ef0e8ee1",
   "metadata": {},
   "outputs": [],
   "source": [
    "# Filter to only Essex County schools (Essex County code: 13)\n",
    "grad18 = grad18[grad18.CountyCode == 13]\n",
    "grad19 = grad19[grad19.CountyCode == 13]\n",
    "grad20 = grad20[grad20.CountyCode == 13]"
   ]
  },
  {
   "cell_type": "code",
   "execution_count": 97,
   "id": "10511eb6",
   "metadata": {},
   "outputs": [
    {
     "data": {
      "text/plain": [
       "Index(['CountyCode', 'CountyName', 'DistrictCode', 'DistrictName',\n",
       "       'SchoolCode', 'SchoolName', 'CohortYear', '4YR_Rate', '5YR_Rate'],\n",
       "      dtype='object')"
      ]
     },
     "execution_count": 97,
     "metadata": {},
     "output_type": "execute_result"
    }
   ],
   "source": [
    "grad18.columns"
   ]
  },
  {
   "cell_type": "code",
   "execution_count": 98,
   "id": "448944e7",
   "metadata": {},
   "outputs": [],
   "source": [
    "#drop CountyCode, CountyName, DistrictCode, DistrictName, SchoolCode, SchoolName\n",
    "grad18 = grad18[['CohortYear', '4YR_Rate', '5YR_Rate']]\n",
    "\n",
    "#drop 'CountyCode', 'CountyName', 'DistrictCode', 'DistrictName','SchoolCode', 'SchoolName','AnnualTarget', 'MetAnnualTarget','StatewideGraduationRate'\n",
    "grad19 = grad19[['CohortYear', 'GraduationRateType', 'GraduationRate']]\n",
    "grad20 = grad20[['CohortYear', 'GraduationRateType', 'GraduationRate']]"
   ]
  },
  {
   "cell_type": "code",
   "execution_count": 99,
   "id": "07c94e83",
   "metadata": {},
   "outputs": [],
   "source": [
    "#replace '*' and 'N' with NULLs\n",
    "grad18 = grad18.replace('*', np.NaN)\n",
    "grad18 = grad18.replace('N', np.NaN)\n",
    "grad19 = grad19.replace('*', np.NaN)\n",
    "grad19 = grad19.replace('N', np.NaN)\n",
    "grad20 = grad20.replace('*', np.NaN)\n",
    "grad20 = grad20.replace('N', np.NaN)"
   ]
  },
  {
   "cell_type": "code",
   "execution_count": 100,
   "id": "f070c7b0",
   "metadata": {},
   "outputs": [],
   "source": [
    "#convert rates to floats\n",
    "grad18['4YR_Rate'] = grad18['4YR_Rate'].astype(float)\n",
    "grad18['5YR_Rate'] = grad18['5YR_Rate'].astype(float)\n",
    "grad19['GraduationRate'] = grad19['GraduationRate'].astype(float)\n",
    "grad20['GraduationRate'] = grad20['GraduationRate'].astype(float)"
   ]
  },
  {
   "cell_type": "code",
   "execution_count": 101,
   "id": "e765b06d",
   "metadata": {},
   "outputs": [],
   "source": [
    "#aggregate and get the mean grad rate for each cohort year\n",
    "grad18 = grad18.groupby(by = ['CohortYear']).mean()"
   ]
  },
  {
   "cell_type": "code",
   "execution_count": 102,
   "id": "74c545fa",
   "metadata": {},
   "outputs": [
    {
     "data": {
      "text/html": [
       "<div>\n",
       "<style scoped>\n",
       "    .dataframe tbody tr th:only-of-type {\n",
       "        vertical-align: middle;\n",
       "    }\n",
       "\n",
       "    .dataframe tbody tr th {\n",
       "        vertical-align: top;\n",
       "    }\n",
       "\n",
       "    .dataframe thead th {\n",
       "        text-align: right;\n",
       "    }\n",
       "</style>\n",
       "<table border=\"1\" class=\"dataframe\">\n",
       "  <thead>\n",
       "    <tr style=\"text-align: right;\">\n",
       "      <th></th>\n",
       "      <th>4YR_Rate</th>\n",
       "      <th>5YR_Rate</th>\n",
       "    </tr>\n",
       "    <tr>\n",
       "      <th>CohortYear</th>\n",
       "      <th></th>\n",
       "      <th></th>\n",
       "    </tr>\n",
       "  </thead>\n",
       "  <tbody>\n",
       "    <tr>\n",
       "      <th>2016</th>\n",
       "      <td>86.355556</td>\n",
       "      <td>90.220588</td>\n",
       "    </tr>\n",
       "    <tr>\n",
       "      <th>2017</th>\n",
       "      <td>88.438235</td>\n",
       "      <td>88.540000</td>\n",
       "    </tr>\n",
       "    <tr>\n",
       "      <th>2018</th>\n",
       "      <td>88.082857</td>\n",
       "      <td>NaN</td>\n",
       "    </tr>\n",
       "  </tbody>\n",
       "</table>\n",
       "</div>"
      ],
      "text/plain": [
       "             4YR_Rate   5YR_Rate\n",
       "CohortYear                      \n",
       "2016        86.355556  90.220588\n",
       "2017        88.438235  88.540000\n",
       "2018        88.082857        NaN"
      ]
     },
     "execution_count": 102,
     "metadata": {},
     "output_type": "execute_result"
    }
   ],
   "source": [
    "grad18"
   ]
  },
  {
   "cell_type": "code",
   "execution_count": 103,
   "id": "e89f7599",
   "metadata": {},
   "outputs": [],
   "source": [
    "#rename columns for 2018 dataset to match new formate\n",
    "grad18.columns = ['4-Year Rate', '5-Year Rate']"
   ]
  },
  {
   "cell_type": "code",
   "execution_count": 104,
   "id": "f6b8eb13",
   "metadata": {},
   "outputs": [
    {
     "data": {
      "text/html": [
       "<div>\n",
       "<style scoped>\n",
       "    .dataframe tbody tr th:only-of-type {\n",
       "        vertical-align: middle;\n",
       "    }\n",
       "\n",
       "    .dataframe tbody tr th {\n",
       "        vertical-align: top;\n",
       "    }\n",
       "\n",
       "    .dataframe thead th {\n",
       "        text-align: right;\n",
       "    }\n",
       "</style>\n",
       "<table border=\"1\" class=\"dataframe\">\n",
       "  <thead>\n",
       "    <tr style=\"text-align: right;\">\n",
       "      <th></th>\n",
       "      <th>CohortYear</th>\n",
       "      <th>4-Year Rate</th>\n",
       "      <th>5-Year Rate</th>\n",
       "    </tr>\n",
       "  </thead>\n",
       "  <tbody>\n",
       "    <tr>\n",
       "      <th>0</th>\n",
       "      <td>2016</td>\n",
       "      <td>86.355556</td>\n",
       "      <td>90.220588</td>\n",
       "    </tr>\n",
       "    <tr>\n",
       "      <th>1</th>\n",
       "      <td>2017</td>\n",
       "      <td>88.438235</td>\n",
       "      <td>88.540000</td>\n",
       "    </tr>\n",
       "    <tr>\n",
       "      <th>2</th>\n",
       "      <td>2018</td>\n",
       "      <td>88.082857</td>\n",
       "      <td>NaN</td>\n",
       "    </tr>\n",
       "  </tbody>\n",
       "</table>\n",
       "</div>"
      ],
      "text/plain": [
       "   CohortYear  4-Year Rate  5-Year Rate\n",
       "0        2016    86.355556    90.220588\n",
       "1        2017    88.438235    88.540000\n",
       "2        2018    88.082857          NaN"
      ]
     },
     "execution_count": 104,
     "metadata": {},
     "output_type": "execute_result"
    }
   ],
   "source": [
    "grad18.reset_index()"
   ]
  },
  {
   "cell_type": "code",
   "execution_count": 105,
   "id": "f34112f0",
   "metadata": {},
   "outputs": [],
   "source": [
    "#aggregate and get the mean grad rate for each cohort year\n",
    "grad19 = grad19.groupby(by = ['CohortYear', 'GraduationRateType']).mean()\n",
    "grad20 = grad20.groupby(by = ['CohortYear', 'GraduationRateType']).mean()"
   ]
  },
  {
   "cell_type": "code",
   "execution_count": 106,
   "id": "67b96586",
   "metadata": {},
   "outputs": [],
   "source": [
    "#reset indices\n",
    "grad19 = grad19.reset_index()\n",
    "grad20 = grad20.reset_index()"
   ]
  },
  {
   "cell_type": "code",
   "execution_count": 112,
   "id": "167e7b19",
   "metadata": {},
   "outputs": [
    {
     "data": {
      "text/html": [
       "<div>\n",
       "<style scoped>\n",
       "    .dataframe tbody tr th:only-of-type {\n",
       "        vertical-align: middle;\n",
       "    }\n",
       "\n",
       "    .dataframe tbody tr th {\n",
       "        vertical-align: top;\n",
       "    }\n",
       "\n",
       "    .dataframe thead th {\n",
       "        text-align: right;\n",
       "    }\n",
       "</style>\n",
       "<table border=\"1\" class=\"dataframe\">\n",
       "  <thead>\n",
       "    <tr style=\"text-align: right;\">\n",
       "      <th></th>\n",
       "      <th>4-Year Rate</th>\n",
       "      <th>5-Year Rate</th>\n",
       "    </tr>\n",
       "    <tr>\n",
       "      <th>CohortYear</th>\n",
       "      <th></th>\n",
       "      <th></th>\n",
       "    </tr>\n",
       "  </thead>\n",
       "  <tbody>\n",
       "    <tr>\n",
       "      <th>2016</th>\n",
       "      <td>86.355556</td>\n",
       "      <td>90.220588</td>\n",
       "    </tr>\n",
       "    <tr>\n",
       "      <th>2017</th>\n",
       "      <td>88.438235</td>\n",
       "      <td>88.540000</td>\n",
       "    </tr>\n",
       "    <tr>\n",
       "      <th>2018</th>\n",
       "      <td>88.082857</td>\n",
       "      <td>NaN</td>\n",
       "    </tr>\n",
       "  </tbody>\n",
       "</table>\n",
       "</div>"
      ],
      "text/plain": [
       "            4-Year Rate  5-Year Rate\n",
       "CohortYear                          \n",
       "2016          86.355556    90.220588\n",
       "2017          88.438235    88.540000\n",
       "2018          88.082857          NaN"
      ]
     },
     "execution_count": 112,
     "metadata": {},
     "output_type": "execute_result"
    }
   ],
   "source": [
    "grad18"
   ]
  },
  {
   "cell_type": "code",
   "execution_count": 108,
   "id": "63aab0fd",
   "metadata": {},
   "outputs": [],
   "source": [
    "#merge 2019 & 2020 data sets\n",
    "grad_all = pd.concat([grad19, grad20], axis = 0)"
   ]
  },
  {
   "cell_type": "code",
   "execution_count": 126,
   "id": "533134f5",
   "metadata": {},
   "outputs": [],
   "source": [
    "#add in 2018 data\n",
    "grad18_row = {'CohortYear': '2016', 'GraduationRateType': '4-Year Rate', 'GraduationRate': 86.355556}\n",
    "grad_all = grad_all.append(grad18_row, ignore_index = True)"
   ]
  },
  {
   "cell_type": "markdown",
   "id": "f53bd51d",
   "metadata": {},
   "source": [
    "## Export Data"
   ]
  },
  {
   "cell_type": "code",
   "execution_count": 127,
   "id": "827337b4",
   "metadata": {},
   "outputs": [],
   "source": [
    "enroll_all.to_csv(\"enrollment.csv\")"
   ]
  },
  {
   "cell_type": "code",
   "execution_count": 128,
   "id": "7d69eb3b",
   "metadata": {},
   "outputs": [],
   "source": [
    "tests_all.to_csv(\"testScores.csv\")"
   ]
  },
  {
   "cell_type": "code",
   "execution_count": 129,
   "id": "ea4cb5c1",
   "metadata": {},
   "outputs": [],
   "source": [
    "grad_all.to_csv(\"graduationRates.csv\")"
   ]
  },
  {
   "cell_type": "code",
   "execution_count": null,
   "id": "2f84e2de",
   "metadata": {},
   "outputs": [],
   "source": []
  }
 ],
 "metadata": {
  "kernelspec": {
   "display_name": "Python 3",
   "language": "python",
   "name": "python3"
  },
  "language_info": {
   "codemirror_mode": {
    "name": "ipython",
    "version": 3
   },
   "file_extension": ".py",
   "mimetype": "text/x-python",
   "name": "python",
   "nbconvert_exporter": "python",
   "pygments_lexer": "ipython3",
   "version": "3.9.6"
  }
 },
 "nbformat": 4,
 "nbformat_minor": 5
}
