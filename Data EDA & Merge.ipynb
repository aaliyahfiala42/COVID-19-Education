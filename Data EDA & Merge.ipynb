{
 "cells": [
  {
   "cell_type": "code",
   "execution_count": 10,
   "id": "29800a82",
   "metadata": {},
   "outputs": [
    {
     "name": "stdout",
     "output_type": "stream",
     "text": [
      "Collecting openpyxl\n",
      "  Downloading openpyxl-3.0.9-py2.py3-none-any.whl (242 kB)\n",
      "Collecting et-xmlfile\n",
      "  Downloading et_xmlfile-1.1.0-py3-none-any.whl (4.7 kB)\n",
      "Installing collected packages: et-xmlfile, openpyxl\n",
      "Successfully installed et-xmlfile-1.1.0 openpyxl-3.0.9\n"
     ]
    },
    {
     "name": "stderr",
     "output_type": "stream",
     "text": [
      "WARNING: You are using pip version 21.2.4; however, version 21.3.1 is available.\n",
      "You should consider upgrading via the 'c:\\python\\python39\\python.exe -m pip install --upgrade pip' command.\n"
     ]
    }
   ],
   "source": [
    "#dependencies\n",
    "#!pip install openpyxl "
   ]
  },
  {
   "cell_type": "code",
   "execution_count": 1,
   "id": "a27acb46",
   "metadata": {},
   "outputs": [],
   "source": [
    "import pandas as pd\n",
    "import numpy as np"
   ]
  },
  {
   "cell_type": "markdown",
   "id": "ab8616f7",
   "metadata": {},
   "source": [
    "## Import Data"
   ]
  },
  {
   "cell_type": "code",
   "execution_count": 15,
   "id": "6f37b37a",
   "metadata": {},
   "outputs": [],
   "source": [
    "#import enrollment data\n",
    "enroll18 = pd.read_excel('data/Database_SchoolDetail17-18.xlsx', sheet_name = 'EnrollmentTrendsbyGrade')\n",
    "enroll19 = pd.read_excel('data/Database_SchoolDetail18-19.xlsx', sheet_name = 'EnrollmentTrendsbyGrade')\n",
    "enroll20 = pd.read_excel('data/Database_SchoolDetail19-20.xlsx', sheet_name = 'EnrollmentTrendsbyGrade')"
   ]
  },
  {
   "cell_type": "code",
   "execution_count": 16,
   "id": "5e02f9bc",
   "metadata": {},
   "outputs": [],
   "source": [
    "#import test score data\n",
    "tests18 = pd.read_excel('data/Database_SchoolDetail17-18.xlsx', sheet_name = 'PSAT-SAT-ACTPerformance')\n",
    "tests19 = pd.read_excel('data/Database_SchoolDetail18-19.xlsx', sheet_name = 'PSAT-SAT-ACTPerformance')\n",
    "tests20 = pd.read_excel('data/Database_SchoolDetail19-20.xlsx', sheet_name = 'PSAT-SAT-ACTPerformance')"
   ]
  },
  {
   "cell_type": "code",
   "execution_count": 19,
   "id": "8804da5f",
   "metadata": {},
   "outputs": [],
   "source": [
    "#import graduation rates data\n",
    "grad18 = pd.read_excel('data/Database_SchoolDetail17-18.xlsx', sheet_name = 'GraduationRateTrends')\n",
    "grad19 = pd.read_excel('data/Database_SchoolDetail18-19.xlsx', sheet_name = 'GraduatonRateTrendsProgress')\n",
    "grad20 = pd.read_excel('data/Database_SchoolDetail19-20.xlsx', sheet_name = 'GraduatonRateTrendsProgress')"
   ]
  },
  {
   "cell_type": "code",
   "execution_count": 20,
   "id": "23a61316",
   "metadata": {},
   "outputs": [
    {
     "data": {
      "text/html": [
       "<div>\n",
       "<style scoped>\n",
       "    .dataframe tbody tr th:only-of-type {\n",
       "        vertical-align: middle;\n",
       "    }\n",
       "\n",
       "    .dataframe tbody tr th {\n",
       "        vertical-align: top;\n",
       "    }\n",
       "\n",
       "    .dataframe thead th {\n",
       "        text-align: right;\n",
       "    }\n",
       "</style>\n",
       "<table border=\"1\" class=\"dataframe\">\n",
       "  <thead>\n",
       "    <tr style=\"text-align: right;\">\n",
       "      <th></th>\n",
       "      <th>CountyCode</th>\n",
       "      <th>CountyName</th>\n",
       "      <th>DistrictCode</th>\n",
       "      <th>DistrictName</th>\n",
       "      <th>SchoolCode</th>\n",
       "      <th>SchoolName</th>\n",
       "      <th>GradePK</th>\n",
       "      <th>GradeKG</th>\n",
       "      <th>Grade01</th>\n",
       "      <th>Grade02</th>\n",
       "      <th>...</th>\n",
       "      <th>Grade04</th>\n",
       "      <th>Grade05</th>\n",
       "      <th>Grade06</th>\n",
       "      <th>Grade07</th>\n",
       "      <th>Grade08</th>\n",
       "      <th>Grade09</th>\n",
       "      <th>Grade10</th>\n",
       "      <th>Grade11</th>\n",
       "      <th>Grade12</th>\n",
       "      <th>Total</th>\n",
       "    </tr>\n",
       "  </thead>\n",
       "  <tbody>\n",
       "    <tr>\n",
       "      <th>0</th>\n",
       "      <td>1</td>\n",
       "      <td>ATLANTIC</td>\n",
       "      <td>10</td>\n",
       "      <td>ABSECON CITY</td>\n",
       "      <td>50</td>\n",
       "      <td>EMMA C ATTALES</td>\n",
       "      <td>0</td>\n",
       "      <td>0</td>\n",
       "      <td>0</td>\n",
       "      <td>0</td>\n",
       "      <td>...</td>\n",
       "      <td>0</td>\n",
       "      <td>97</td>\n",
       "      <td>93</td>\n",
       "      <td>79</td>\n",
       "      <td>106</td>\n",
       "      <td>0</td>\n",
       "      <td>0</td>\n",
       "      <td>0</td>\n",
       "      <td>0</td>\n",
       "      <td>375</td>\n",
       "    </tr>\n",
       "    <tr>\n",
       "      <th>1</th>\n",
       "      <td>1</td>\n",
       "      <td>ATLANTIC</td>\n",
       "      <td>10</td>\n",
       "      <td>ABSECON CITY</td>\n",
       "      <td>60</td>\n",
       "      <td>H ASHTON MARSH</td>\n",
       "      <td>39</td>\n",
       "      <td>99</td>\n",
       "      <td>84</td>\n",
       "      <td>86</td>\n",
       "      <td>...</td>\n",
       "      <td>103</td>\n",
       "      <td>0</td>\n",
       "      <td>0</td>\n",
       "      <td>0</td>\n",
       "      <td>0</td>\n",
       "      <td>0</td>\n",
       "      <td>0</td>\n",
       "      <td>0</td>\n",
       "      <td>0</td>\n",
       "      <td>493</td>\n",
       "    </tr>\n",
       "  </tbody>\n",
       "</table>\n",
       "<p>2 rows × 21 columns</p>\n",
       "</div>"
      ],
      "text/plain": [
       "   CountyCode CountyName  DistrictCode  DistrictName  SchoolCode  \\\n",
       "0           1   ATLANTIC            10  ABSECON CITY          50   \n",
       "1           1   ATLANTIC            10  ABSECON CITY          60   \n",
       "\n",
       "       SchoolName GradePK GradeKG Grade01 Grade02  ... Grade04 Grade05  \\\n",
       "0  EMMA C ATTALES       0       0       0       0  ...       0      97   \n",
       "1  H ASHTON MARSH      39      99      84      86  ...     103       0   \n",
       "\n",
       "  Grade06 Grade07 Grade08 Grade09 Grade10 Grade11 Grade12 Total  \n",
       "0      93      79     106       0       0       0       0   375  \n",
       "1       0       0       0       0       0       0       0   493  \n",
       "\n",
       "[2 rows x 21 columns]"
      ]
     },
     "execution_count": 20,
     "metadata": {},
     "output_type": "execute_result"
    }
   ],
   "source": [
    "enrollement18.head(2)"
   ]
  },
  {
   "cell_type": "markdown",
   "id": "d9d78ba8",
   "metadata": {},
   "source": [
    "## Data cleanup\n",
    "\n",
    "* Filter to only Essex County schools (Essex County code: 13)\n",
    "\n",
    "* Create a column for school year\n",
    "* Merge together each dataset by year\n",
    "* Average over all schools in Essex County\n",
    "\n",
    "Grad\n",
    "* Rename 17-18 columns to match the other datasets"
   ]
  },
  {
   "cell_type": "code",
   "execution_count": null,
   "id": "f6cb02eb",
   "metadata": {},
   "outputs": [],
   "source": []
  }
 ],
 "metadata": {
  "kernelspec": {
   "display_name": "Python 3",
   "language": "python",
   "name": "python3"
  },
  "language_info": {
   "codemirror_mode": {
    "name": "ipython",
    "version": 3
   },
   "file_extension": ".py",
   "mimetype": "text/x-python",
   "name": "python",
   "nbconvert_exporter": "python",
   "pygments_lexer": "ipython3",
   "version": "3.9.6"
  }
 },
 "nbformat": 4,
 "nbformat_minor": 5
}
